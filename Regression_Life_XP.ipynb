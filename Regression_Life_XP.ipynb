{
  "nbformat": 4,
  "nbformat_minor": 0,
  "metadata": {
    "colab": {
      "provenance": [],
      "authorship_tag": "ABX9TyMj52MRMBTuDNomYvmlfoNl",
      "include_colab_link": true
    },
    "kernelspec": {
      "name": "python3",
      "display_name": "Python 3"
    },
    "language_info": {
      "name": "python"
    }
  },
  "cells": [
    {
      "cell_type": "markdown",
      "metadata": {
        "id": "view-in-github",
        "colab_type": "text"
      },
      "source": [
        "<a href=\"https://colab.research.google.com/github/chabazite/DeepLearning_Tensorflow/blob/main/Regression_Life_XP.ipynb\" target=\"_parent\"><img src=\"https://colab.research.google.com/assets/colab-badge.svg\" alt=\"Open In Colab\"/></a>"
      ]
    },
    {
      "cell_type": "markdown",
      "source": [
        "# Regression Modeling with Tensorflow\n",
        "- The goal of this notebook is to stay up to date with Tensorflow and keep my skills with different objectives for ML sharp. I will use toy datasets as the goal is not data processing, but to focus on the ML component.\n",
        "- I don't want to use common boring toy datasets like titanic, or housing prices, but I found a structured dataset on Kaggle that has features of how Life Expectancy for Countries and some data around that country from WHO. This plays into a few other analyses i've done on increase population size.\n",
        "\n",
        "https://www.kaggle.com/datasets/kumarajarshi/life-expectancy-who?select=Life+Expectancy+Data.csv\n"
      ],
      "metadata": {
        "id": "xWY69p0YNAJX"
      }
    },
    {
      "cell_type": "code",
      "source": [
        "import tensorflow as tf\n",
        "import polars as pl\n",
        "import numpy as np\n",
        "import matplotlib.pyplot as plt\n",
        "import seaborn as sns\n",
        "import pandas as pd\n",
        "\n",
        "from sklearn.model_selection import train_test_split\n",
        "from sklearn.compose import make_column_transformer\n",
        "from sklearn.preprocessing import MinMaxScaler, OneHotEncoder"
      ],
      "metadata": {
        "id": "BtwXhNJ4Qwfi"
      },
      "execution_count": 197,
      "outputs": []
    },
    {
      "cell_type": "code",
      "source": [
        "df = pl.read_csv('./Life Expectancy Data.csv', has_header=True, separator=',',dtypes={'Population':pl.Float64} )"
      ],
      "metadata": {
        "id": "-Jd9TUxpB2ol"
      },
      "execution_count": 122,
      "outputs": []
    },
    {
      "cell_type": "code",
      "source": [
        "df.head()"
      ],
      "metadata": {
        "colab": {
          "base_uri": "https://localhost:8080/",
          "height": 272
        },
        "id": "QgTgKh2zB3A5",
        "outputId": "62a49596-e3df-4aad-8512-13ba65655b4d"
      },
      "execution_count": 123,
      "outputs": [
        {
          "output_type": "execute_result",
          "data": {
            "text/plain": [
              "shape: (5, 22)\n",
              "┌────────────┬──────┬────────────┬────────────┬───┬────────────┬───────────┬───────────┬───────────┐\n",
              "│ Country    ┆ Year ┆ Status     ┆ Life       ┆ … ┆ thinness   ┆ thinness  ┆ Income    ┆ Schooling │\n",
              "│ ---        ┆ ---  ┆ ---        ┆ expectancy ┆   ┆ 1-19 years ┆ 5-9 years ┆ compositi ┆ ---       │\n",
              "│ str        ┆ i64  ┆ str        ┆ ---        ┆   ┆ ---        ┆ ---       ┆ on of     ┆ f64       │\n",
              "│            ┆      ┆            ┆ f64        ┆   ┆ f64        ┆ f64       ┆ resources ┆           │\n",
              "│            ┆      ┆            ┆            ┆   ┆            ┆           ┆ ---       ┆           │\n",
              "│            ┆      ┆            ┆            ┆   ┆            ┆           ┆ f64       ┆           │\n",
              "╞════════════╪══════╪════════════╪════════════╪═══╪════════════╪═══════════╪═══════════╪═══════════╡\n",
              "│ Afghanista ┆ 2015 ┆ Developing ┆ 65.0       ┆ … ┆ 17.2       ┆ 17.3      ┆ 0.479     ┆ 10.1      │\n",
              "│ n          ┆      ┆            ┆            ┆   ┆            ┆           ┆           ┆           │\n",
              "│ Afghanista ┆ 2014 ┆ Developing ┆ 59.9       ┆ … ┆ 17.5       ┆ 17.5      ┆ 0.476     ┆ 10.0      │\n",
              "│ n          ┆      ┆            ┆            ┆   ┆            ┆           ┆           ┆           │\n",
              "│ Afghanista ┆ 2013 ┆ Developing ┆ 59.9       ┆ … ┆ 17.7       ┆ 17.7      ┆ 0.47      ┆ 9.9       │\n",
              "│ n          ┆      ┆            ┆            ┆   ┆            ┆           ┆           ┆           │\n",
              "│ Afghanista ┆ 2012 ┆ Developing ┆ 59.5       ┆ … ┆ 17.9       ┆ 18.0      ┆ 0.463     ┆ 9.8       │\n",
              "│ n          ┆      ┆            ┆            ┆   ┆            ┆           ┆           ┆           │\n",
              "│ Afghanista ┆ 2011 ┆ Developing ┆ 59.2       ┆ … ┆ 18.2       ┆ 18.2      ┆ 0.454     ┆ 9.5       │\n",
              "│ n          ┆      ┆            ┆            ┆   ┆            ┆           ┆           ┆           │\n",
              "└────────────┴──────┴────────────┴────────────┴───┴────────────┴───────────┴───────────┴───────────┘"
            ],
            "text/html": [
              "<div><style>\n",
              ".dataframe > thead > tr,\n",
              ".dataframe > tbody > tr {\n",
              "  text-align: right;\n",
              "  white-space: pre-wrap;\n",
              "}\n",
              "</style>\n",
              "<small>shape: (5, 22)</small><table border=\"1\" class=\"dataframe\"><thead><tr><th>Country</th><th>Year</th><th>Status</th><th>Life expectancy </th><th>Adult Mortality</th><th>infant deaths</th><th>Alcohol</th><th>percentage expenditure</th><th>Hepatitis B</th><th>Measles </th><th> BMI </th><th>under-five deaths </th><th>Polio</th><th>Total expenditure</th><th>Diphtheria </th><th> HIV/AIDS</th><th>GDP</th><th>Population</th><th> thinness  1-19 years</th><th> thinness 5-9 years</th><th>Income composition of resources</th><th>Schooling</th></tr><tr><td>str</td><td>i64</td><td>str</td><td>f64</td><td>i64</td><td>i64</td><td>f64</td><td>f64</td><td>i64</td><td>i64</td><td>f64</td><td>i64</td><td>i64</td><td>f64</td><td>i64</td><td>f64</td><td>f64</td><td>f64</td><td>f64</td><td>f64</td><td>f64</td><td>f64</td></tr></thead><tbody><tr><td>&quot;Afghanistan&quot;</td><td>2015</td><td>&quot;Developing&quot;</td><td>65.0</td><td>263</td><td>62</td><td>0.01</td><td>71.279624</td><td>65</td><td>1154</td><td>19.1</td><td>83</td><td>6</td><td>8.16</td><td>65</td><td>0.1</td><td>584.25921</td><td>3.3736494e7</td><td>17.2</td><td>17.3</td><td>0.479</td><td>10.1</td></tr><tr><td>&quot;Afghanistan&quot;</td><td>2014</td><td>&quot;Developing&quot;</td><td>59.9</td><td>271</td><td>64</td><td>0.01</td><td>73.523582</td><td>62</td><td>492</td><td>18.6</td><td>86</td><td>58</td><td>8.18</td><td>62</td><td>0.1</td><td>612.696514</td><td>327582.0</td><td>17.5</td><td>17.5</td><td>0.476</td><td>10.0</td></tr><tr><td>&quot;Afghanistan&quot;</td><td>2013</td><td>&quot;Developing&quot;</td><td>59.9</td><td>268</td><td>66</td><td>0.01</td><td>73.219243</td><td>64</td><td>430</td><td>18.1</td><td>89</td><td>62</td><td>8.13</td><td>64</td><td>0.1</td><td>631.744976</td><td>3.1731688e7</td><td>17.7</td><td>17.7</td><td>0.47</td><td>9.9</td></tr><tr><td>&quot;Afghanistan&quot;</td><td>2012</td><td>&quot;Developing&quot;</td><td>59.5</td><td>272</td><td>69</td><td>0.01</td><td>78.184215</td><td>67</td><td>2787</td><td>17.6</td><td>93</td><td>67</td><td>8.52</td><td>67</td><td>0.1</td><td>669.959</td><td>3.696958e6</td><td>17.9</td><td>18.0</td><td>0.463</td><td>9.8</td></tr><tr><td>&quot;Afghanistan&quot;</td><td>2011</td><td>&quot;Developing&quot;</td><td>59.2</td><td>275</td><td>71</td><td>0.01</td><td>7.097109</td><td>68</td><td>3013</td><td>17.2</td><td>97</td><td>68</td><td>7.87</td><td>68</td><td>0.1</td><td>63.537231</td><td>2.978599e6</td><td>18.2</td><td>18.2</td><td>0.454</td><td>9.5</td></tr></tbody></table></div>"
            ]
          },
          "metadata": {},
          "execution_count": 123
        }
      ]
    },
    {
      "cell_type": "markdown",
      "source": [
        "## Exploration of Data"
      ],
      "metadata": {
        "id": "dhOUG3CDB8ty"
      }
    },
    {
      "cell_type": "code",
      "source": [
        "df.schema"
      ],
      "metadata": {
        "colab": {
          "base_uri": "https://localhost:8080/"
        },
        "id": "sh7Ney94Deic",
        "outputId": "17c6ae9e-3041-4b4a-c489-38177636d04f"
      },
      "execution_count": 59,
      "outputs": [
        {
          "output_type": "execute_result",
          "data": {
            "text/plain": [
              "OrderedDict([('Country', Utf8),\n",
              "             ('Year', Int64),\n",
              "             ('Status', Utf8),\n",
              "             ('Life expectancy ', Float64),\n",
              "             ('Adult Mortality', Int64),\n",
              "             ('infant deaths', Int64),\n",
              "             ('Alcohol', Float64),\n",
              "             ('percentage expenditure', Float64),\n",
              "             ('Hepatitis B', Int64),\n",
              "             ('Measles ', Int64),\n",
              "             (' BMI ', Float64),\n",
              "             ('under-five deaths ', Int64),\n",
              "             ('Polio', Int64),\n",
              "             ('Total expenditure', Float64),\n",
              "             ('Diphtheria ', Int64),\n",
              "             (' HIV/AIDS', Float64),\n",
              "             ('GDP', Float64),\n",
              "             ('Population', Float64),\n",
              "             (' thinness  1-19 years', Float64),\n",
              "             (' thinness 5-9 years', Float64),\n",
              "             ('Income composition of resources', Float64),\n",
              "             ('Schooling', Float64)])"
            ]
          },
          "metadata": {},
          "execution_count": 59
        }
      ]
    },
    {
      "cell_type": "code",
      "source": [
        "df = df.rename({ \"Life expectancy \":\"life_expectancy\"\n",
        "               , 'Measles ':'measles'\n",
        "               , ' BMI ':'bmi'\n",
        "               , 'Status': 'status'\n",
        "               , 'Polio': 'polio'\n",
        "               , 'Total expenditure': 'total_expenditure'\n",
        "               , 'GDP': 'gdp'\n",
        "               , 'Income composition of resources': 'income_composition_resources'\n",
        "               , 'under-five deaths ':'under_five_deaths'\n",
        "               , 'Diphtheria ':'diphtheria'\n",
        "               , ' HIV/AIDS':'hiv_aids'\n",
        "               ,' thinness  1-19 years':'thinness_1_19_years'\n",
        "               ,' thinness 5-9 years': 'thinness_5_9_years'\n",
        "               , 'Country': 'country'\n",
        "               , 'Year': 'year'\n",
        "               , 'Adult Mortality': 'adult_mortality'\n",
        "               , 'Alcohol':'alcohol'\n",
        "               , 'infant deaths': 'infant_deaths'\n",
        "               , \"Hepatitis B\": 'hepatitus_b'\n",
        "               , 'percentage expenditure': 'percentage_expenditure'\n",
        "               , 'Population': 'population'\n",
        "               , 'Schooling': 'schooling'  })"
      ],
      "metadata": {
        "id": "XYgwIZN-PYKk"
      },
      "execution_count": 124,
      "outputs": []
    },
    {
      "cell_type": "code",
      "source": [
        "df.shape"
      ],
      "metadata": {
        "colab": {
          "base_uri": "https://localhost:8080/"
        },
        "id": "GkW2w40yDfuI",
        "outputId": "c86a7c4a-fff0-466d-f729-3371829fd91a"
      },
      "execution_count": 125,
      "outputs": [
        {
          "output_type": "execute_result",
          "data": {
            "text/plain": [
              "(2938, 22)"
            ]
          },
          "metadata": {},
          "execution_count": 125
        }
      ]
    },
    {
      "cell_type": "code",
      "source": [
        "df.describe()"
      ],
      "metadata": {
        "colab": {
          "base_uri": "https://localhost:8080/",
          "height": 400
        },
        "id": "AaCcSCoXKIsb",
        "outputId": "1564ee58-2961-47f2-a1c4-0074a499ff6c"
      },
      "execution_count": 126,
      "outputs": [
        {
          "output_type": "execute_result",
          "data": {
            "text/plain": [
              "shape: (9, 23)\n",
              "┌───────────┬───────────┬───────────┬───────────┬───┬───────────┬───────────┬───────────┬──────────┐\n",
              "│ describe  ┆ country   ┆ year      ┆ status    ┆ … ┆ thinness_ ┆ thinness_ ┆ income_co ┆ schoolin │\n",
              "│ ---       ┆ ---       ┆ ---       ┆ ---       ┆   ┆ 1_19_year ┆ 5_9_years ┆ mposition ┆ g        │\n",
              "│ str       ┆ str       ┆ f64       ┆ str       ┆   ┆ s         ┆ ---       ┆ _resource ┆ ---      │\n",
              "│           ┆           ┆           ┆           ┆   ┆ ---       ┆ f64       ┆ s         ┆ f64      │\n",
              "│           ┆           ┆           ┆           ┆   ┆ f64       ┆           ┆ ---       ┆          │\n",
              "│           ┆           ┆           ┆           ┆   ┆           ┆           ┆ f64       ┆          │\n",
              "╞═══════════╪═══════════╪═══════════╪═══════════╪═══╪═══════════╪═══════════╪═══════════╪══════════╡\n",
              "│ count     ┆ 2938      ┆ 2938.0    ┆ 2938      ┆ … ┆ 2904.0    ┆ 2904.0    ┆ 2771.0    ┆ 2775.0   │\n",
              "│ null_coun ┆ 0         ┆ 0.0       ┆ 0         ┆ … ┆ 34.0      ┆ 34.0      ┆ 167.0     ┆ 163.0    │\n",
              "│ t         ┆           ┆           ┆           ┆   ┆           ┆           ┆           ┆          │\n",
              "│ mean      ┆ null      ┆ 2007.5187 ┆ null      ┆ … ┆ 4.839704  ┆ 4.870317  ┆ 0.627551  ┆ 11.99279 │\n",
              "│           ┆           ┆ 2         ┆           ┆   ┆           ┆           ┆           ┆ 3        │\n",
              "│ std       ┆ null      ┆ 4.613841  ┆ null      ┆ … ┆ 4.420195  ┆ 4.508882  ┆ 0.210904  ┆ 3.35892  │\n",
              "│ min       ┆ Afghanist ┆ 2000.0    ┆ Developed ┆ … ┆ 0.1       ┆ 0.1       ┆ 0.0       ┆ 0.0      │\n",
              "│           ┆ an        ┆           ┆           ┆   ┆           ┆           ┆           ┆          │\n",
              "│ 25%       ┆ null      ┆ 2004.0    ┆ null      ┆ … ┆ 1.6       ┆ 1.5       ┆ 0.493     ┆ 10.1     │\n",
              "│ 50%       ┆ null      ┆ 2008.0    ┆ null      ┆ … ┆ 3.3       ┆ 3.3       ┆ 0.677     ┆ 12.3     │\n",
              "│ 75%       ┆ null      ┆ 2012.0    ┆ null      ┆ … ┆ 7.2       ┆ 7.2       ┆ 0.779     ┆ 14.3     │\n",
              "│ max       ┆ Zimbabwe  ┆ 2015.0    ┆ Developin ┆ … ┆ 27.7      ┆ 28.6      ┆ 0.948     ┆ 20.7     │\n",
              "│           ┆           ┆           ┆ g         ┆   ┆           ┆           ┆           ┆          │\n",
              "└───────────┴───────────┴───────────┴───────────┴───┴───────────┴───────────┴───────────┴──────────┘"
            ],
            "text/html": [
              "<div><style>\n",
              ".dataframe > thead > tr,\n",
              ".dataframe > tbody > tr {\n",
              "  text-align: right;\n",
              "  white-space: pre-wrap;\n",
              "}\n",
              "</style>\n",
              "<small>shape: (9, 23)</small><table border=\"1\" class=\"dataframe\"><thead><tr><th>describe</th><th>country</th><th>year</th><th>status</th><th>life_expectancy</th><th>adult_mortality</th><th>infant_deaths</th><th>alcohol</th><th>percentage_expenditure</th><th>hepatitus_b</th><th>measles</th><th>bmi</th><th>under_five_deaths</th><th>polio</th><th>total_expenditure</th><th>diphtheria</th><th>hiv_aids</th><th>gdp</th><th>population</th><th>thinness_1_19_years</th><th>thinness_5_9_years</th><th>income_composition_resources</th><th>schooling</th></tr><tr><td>str</td><td>str</td><td>f64</td><td>str</td><td>f64</td><td>f64</td><td>f64</td><td>f64</td><td>f64</td><td>f64</td><td>f64</td><td>f64</td><td>f64</td><td>f64</td><td>f64</td><td>f64</td><td>f64</td><td>f64</td><td>f64</td><td>f64</td><td>f64</td><td>f64</td><td>f64</td></tr></thead><tbody><tr><td>&quot;count&quot;</td><td>&quot;2938&quot;</td><td>2938.0</td><td>&quot;2938&quot;</td><td>2928.0</td><td>2928.0</td><td>2938.0</td><td>2744.0</td><td>2938.0</td><td>2385.0</td><td>2938.0</td><td>2904.0</td><td>2938.0</td><td>2919.0</td><td>2712.0</td><td>2919.0</td><td>2938.0</td><td>2490.0</td><td>2286.0</td><td>2904.0</td><td>2904.0</td><td>2771.0</td><td>2775.0</td></tr><tr><td>&quot;null_count&quot;</td><td>&quot;0&quot;</td><td>0.0</td><td>&quot;0&quot;</td><td>10.0</td><td>10.0</td><td>0.0</td><td>194.0</td><td>0.0</td><td>553.0</td><td>0.0</td><td>34.0</td><td>0.0</td><td>19.0</td><td>226.0</td><td>19.0</td><td>0.0</td><td>448.0</td><td>652.0</td><td>34.0</td><td>34.0</td><td>167.0</td><td>163.0</td></tr><tr><td>&quot;mean&quot;</td><td>null</td><td>2007.51872</td><td>null</td><td>69.224932</td><td>164.796448</td><td>30.303948</td><td>4.602861</td><td>738.251295</td><td>80.940461</td><td>2419.59224</td><td>38.321247</td><td>42.035739</td><td>82.550188</td><td>5.93819</td><td>82.324084</td><td>1.742103</td><td>7483.158469</td><td>1.2753e7</td><td>4.839704</td><td>4.870317</td><td>0.627551</td><td>11.992793</td></tr><tr><td>&quot;std&quot;</td><td>null</td><td>4.613841</td><td>null</td><td>9.523867</td><td>124.292079</td><td>117.926501</td><td>4.052413</td><td>1987.914858</td><td>25.070016</td><td>11467.272489</td><td>20.044034</td><td>160.445548</td><td>23.428046</td><td>2.49832</td><td>23.716912</td><td>5.077785</td><td>14270.169342</td><td>6.1012e7</td><td>4.420195</td><td>4.508882</td><td>0.210904</td><td>3.35892</td></tr><tr><td>&quot;min&quot;</td><td>&quot;Afghanistan&quot;</td><td>2000.0</td><td>&quot;Developed&quot;</td><td>36.3</td><td>1.0</td><td>0.0</td><td>0.01</td><td>0.0</td><td>1.0</td><td>0.0</td><td>1.0</td><td>0.0</td><td>3.0</td><td>0.37</td><td>2.0</td><td>0.1</td><td>1.68135</td><td>34.0</td><td>0.1</td><td>0.1</td><td>0.0</td><td>0.0</td></tr><tr><td>&quot;25%&quot;</td><td>null</td><td>2004.0</td><td>null</td><td>63.1</td><td>74.0</td><td>0.0</td><td>0.88</td><td>4.673592</td><td>77.0</td><td>0.0</td><td>19.3</td><td>0.0</td><td>78.0</td><td>4.26</td><td>78.0</td><td>0.1</td><td>463.852618</td><td>195553.0</td><td>1.6</td><td>1.5</td><td>0.493</td><td>10.1</td></tr><tr><td>&quot;50%&quot;</td><td>null</td><td>2008.0</td><td>null</td><td>72.1</td><td>144.0</td><td>3.0</td><td>3.76</td><td>64.969645</td><td>92.0</td><td>17.0</td><td>43.5</td><td>4.0</td><td>93.0</td><td>5.76</td><td>93.0</td><td>0.1</td><td>1768.92132</td><td>1.388115e6</td><td>3.3</td><td>3.3</td><td>0.677</td><td>12.3</td></tr><tr><td>&quot;75%&quot;</td><td>null</td><td>2012.0</td><td>null</td><td>75.7</td><td>228.0</td><td>22.0</td><td>7.7</td><td>441.844624</td><td>97.0</td><td>361.0</td><td>56.2</td><td>28.0</td><td>97.0</td><td>7.49</td><td>97.0</td><td>0.8</td><td>5918.19898</td><td>7.423289e6</td><td>7.2</td><td>7.2</td><td>0.779</td><td>14.3</td></tr><tr><td>&quot;max&quot;</td><td>&quot;Zimbabwe&quot;</td><td>2015.0</td><td>&quot;Developing&quot;</td><td>89.0</td><td>723.0</td><td>1800.0</td><td>17.87</td><td>19479.91161</td><td>99.0</td><td>212183.0</td><td>87.3</td><td>2500.0</td><td>99.0</td><td>17.6</td><td>99.0</td><td>50.6</td><td>119172.7418</td><td>1.2939e9</td><td>27.7</td><td>28.6</td><td>0.948</td><td>20.7</td></tr></tbody></table></div>"
            ]
          },
          "metadata": {},
          "execution_count": 126
        }
      ]
    },
    {
      "cell_type": "code",
      "source": [
        "df.null_count()"
      ],
      "metadata": {
        "colab": {
          "base_uri": "https://localhost:8080/",
          "height": 149
        },
        "id": "CRDIUmFYKPCi",
        "outputId": "371413fc-7fbf-4544-fc0a-472e0f60c7be"
      },
      "execution_count": 127,
      "outputs": [
        {
          "output_type": "execute_result",
          "data": {
            "text/plain": [
              "shape: (1, 22)\n",
              "┌─────────┬──────┬────────┬──────────────┬───┬─────────────┬─────────────┬─────────────┬───────────┐\n",
              "│ country ┆ year ┆ status ┆ life_expecta ┆ … ┆ thinness_1_ ┆ thinness_5_ ┆ income_comp ┆ schooling │\n",
              "│ ---     ┆ ---  ┆ ---    ┆ ncy          ┆   ┆ 19_years    ┆ 9_years     ┆ osition_res ┆ ---       │\n",
              "│ u32     ┆ u32  ┆ u32    ┆ ---          ┆   ┆ ---         ┆ ---         ┆ ources      ┆ u32       │\n",
              "│         ┆      ┆        ┆ u32          ┆   ┆ u32         ┆ u32         ┆ ---         ┆           │\n",
              "│         ┆      ┆        ┆              ┆   ┆             ┆             ┆ u32         ┆           │\n",
              "╞═════════╪══════╪════════╪══════════════╪═══╪═════════════╪═════════════╪═════════════╪═══════════╡\n",
              "│ 0       ┆ 0    ┆ 0      ┆ 10           ┆ … ┆ 34          ┆ 34          ┆ 167         ┆ 163       │\n",
              "└─────────┴──────┴────────┴──────────────┴───┴─────────────┴─────────────┴─────────────┴───────────┘"
            ],
            "text/html": [
              "<div><style>\n",
              ".dataframe > thead > tr,\n",
              ".dataframe > tbody > tr {\n",
              "  text-align: right;\n",
              "  white-space: pre-wrap;\n",
              "}\n",
              "</style>\n",
              "<small>shape: (1, 22)</small><table border=\"1\" class=\"dataframe\"><thead><tr><th>country</th><th>year</th><th>status</th><th>life_expectancy</th><th>adult_mortality</th><th>infant_deaths</th><th>alcohol</th><th>percentage_expenditure</th><th>hepatitus_b</th><th>measles</th><th>bmi</th><th>under_five_deaths</th><th>polio</th><th>total_expenditure</th><th>diphtheria</th><th>hiv_aids</th><th>gdp</th><th>population</th><th>thinness_1_19_years</th><th>thinness_5_9_years</th><th>income_composition_resources</th><th>schooling</th></tr><tr><td>u32</td><td>u32</td><td>u32</td><td>u32</td><td>u32</td><td>u32</td><td>u32</td><td>u32</td><td>u32</td><td>u32</td><td>u32</td><td>u32</td><td>u32</td><td>u32</td><td>u32</td><td>u32</td><td>u32</td><td>u32</td><td>u32</td><td>u32</td><td>u32</td><td>u32</td></tr></thead><tbody><tr><td>0</td><td>0</td><td>0</td><td>10</td><td>10</td><td>0</td><td>194</td><td>0</td><td>553</td><td>0</td><td>34</td><td>0</td><td>19</td><td>226</td><td>19</td><td>0</td><td>448</td><td>652</td><td>34</td><td>34</td><td>167</td><td>163</td></tr></tbody></table></div>"
            ]
          },
          "metadata": {},
          "execution_count": 127
        }
      ]
    },
    {
      "cell_type": "code",
      "source": [
        "## Remove all nulls, just to make our dataset easier to work with right now.\n",
        "df = df.drop_nulls()"
      ],
      "metadata": {
        "id": "a9h9Qb2aKx4b"
      },
      "execution_count": 128,
      "outputs": []
    },
    {
      "cell_type": "code",
      "source": [
        "df.null_count()"
      ],
      "metadata": {
        "colab": {
          "base_uri": "https://localhost:8080/",
          "height": 149
        },
        "id": "bBXfcsA0LK4E",
        "outputId": "327bf70d-2489-404a-8c85-c398c194fc19"
      },
      "execution_count": 129,
      "outputs": [
        {
          "output_type": "execute_result",
          "data": {
            "text/plain": [
              "shape: (1, 22)\n",
              "┌─────────┬──────┬────────┬──────────────┬───┬─────────────┬─────────────┬─────────────┬───────────┐\n",
              "│ country ┆ year ┆ status ┆ life_expecta ┆ … ┆ thinness_1_ ┆ thinness_5_ ┆ income_comp ┆ schooling │\n",
              "│ ---     ┆ ---  ┆ ---    ┆ ncy          ┆   ┆ 19_years    ┆ 9_years     ┆ osition_res ┆ ---       │\n",
              "│ u32     ┆ u32  ┆ u32    ┆ ---          ┆   ┆ ---         ┆ ---         ┆ ources      ┆ u32       │\n",
              "│         ┆      ┆        ┆ u32          ┆   ┆ u32         ┆ u32         ┆ ---         ┆           │\n",
              "│         ┆      ┆        ┆              ┆   ┆             ┆             ┆ u32         ┆           │\n",
              "╞═════════╪══════╪════════╪══════════════╪═══╪═════════════╪═════════════╪═════════════╪═══════════╡\n",
              "│ 0       ┆ 0    ┆ 0      ┆ 0            ┆ … ┆ 0           ┆ 0           ┆ 0           ┆ 0         │\n",
              "└─────────┴──────┴────────┴──────────────┴───┴─────────────┴─────────────┴─────────────┴───────────┘"
            ],
            "text/html": [
              "<div><style>\n",
              ".dataframe > thead > tr,\n",
              ".dataframe > tbody > tr {\n",
              "  text-align: right;\n",
              "  white-space: pre-wrap;\n",
              "}\n",
              "</style>\n",
              "<small>shape: (1, 22)</small><table border=\"1\" class=\"dataframe\"><thead><tr><th>country</th><th>year</th><th>status</th><th>life_expectancy</th><th>adult_mortality</th><th>infant_deaths</th><th>alcohol</th><th>percentage_expenditure</th><th>hepatitus_b</th><th>measles</th><th>bmi</th><th>under_five_deaths</th><th>polio</th><th>total_expenditure</th><th>diphtheria</th><th>hiv_aids</th><th>gdp</th><th>population</th><th>thinness_1_19_years</th><th>thinness_5_9_years</th><th>income_composition_resources</th><th>schooling</th></tr><tr><td>u32</td><td>u32</td><td>u32</td><td>u32</td><td>u32</td><td>u32</td><td>u32</td><td>u32</td><td>u32</td><td>u32</td><td>u32</td><td>u32</td><td>u32</td><td>u32</td><td>u32</td><td>u32</td><td>u32</td><td>u32</td><td>u32</td><td>u32</td><td>u32</td><td>u32</td></tr></thead><tbody><tr><td>0</td><td>0</td><td>0</td><td>0</td><td>0</td><td>0</td><td>0</td><td>0</td><td>0</td><td>0</td><td>0</td><td>0</td><td>0</td><td>0</td><td>0</td><td>0</td><td>0</td><td>0</td><td>0</td><td>0</td><td>0</td><td>0</td></tr></tbody></table></div>"
            ]
          },
          "metadata": {},
          "execution_count": 129
        }
      ]
    },
    {
      "cell_type": "code",
      "source": [
        "plt.bar(df.group_by('status').count()['status'],df.group_by('status').count()['count'])\n",
        "\n",
        "plt.xlabel('status')\n",
        "plt.ylabel('Count of Records')\n",
        "plt.title('Count of Records based on Developing status')\n",
        "plt.show()\n"
      ],
      "metadata": {
        "colab": {
          "base_uri": "https://localhost:8080/",
          "height": 472
        },
        "id": "yvWQVYB1LfdB",
        "outputId": "a5f08a5a-c1a7-44a1-eb4f-ee729024cdd8"
      },
      "execution_count": 130,
      "outputs": [
        {
          "output_type": "display_data",
          "data": {
            "text/plain": [
              "<Figure size 640x480 with 1 Axes>"
            ],
            "image/png": "[encoded data removed]"
          },
          "metadata": {}
        }
      ]
    },
    {
      "cell_type": "markdown",
      "source": [
        "## Preprocessing Categorical and Numerical Data"
      ],
      "metadata": {
        "id": "jckjs03lNX39"
      }
    },
    {
      "cell_type": "code",
      "source": [
        "## Country and Status are Text Based. Country need Tokenization, and Satus needs one hot encoding"
      ],
      "metadata": {
        "id": "E3KpCi5kNu7X"
      },
      "execution_count": 131,
      "outputs": []
    },
    {
      "cell_type": "code",
      "source": [
        "country_list = list(set([value for value in df['country']]))"
      ],
      "metadata": {
        "id": "g1PJAN-wVlaJ"
      },
      "execution_count": 132,
      "outputs": []
    },
    {
      "cell_type": "code",
      "source": [
        "# Tokenize and vectorize string columns\n",
        "text_vectorizer_country = tf.keras.layers.TextVectorization(output_sequence_length = 1)\n",
        "text_vectorizer_country.adapt(country_list)\n",
        "\n",
        "tokenized_country_tf = text_vectorizer_country(list(df['country']))"
      ],
      "metadata": {
        "id": "SRJphR0vOG6r"
      },
      "execution_count": 133,
      "outputs": []
    },
    {
      "cell_type": "code",
      "source": [
        "# Convert the TensorFlow tensor to a numpy array and flatten it\n",
        "tokenized_country_np = tokenized_country_tf.numpy().flatten()\n",
        "\n",
        "# Create a new column in your Polars DataFrame\n",
        "df = df.with_columns(pl.Series(\"tokenized_country\", tokenized_country_np))\n"
      ],
      "metadata": {
        "id": "bhtbJnP8XUg3"
      },
      "execution_count": 134,
      "outputs": []
    },
    {
      "cell_type": "code",
      "source": [
        "# SkLearn pipeline for Normalization and for One-hot encoding for Status"
      ],
      "metadata": {
        "id": "Cg0NxHjpOD17"
      },
      "execution_count": 135,
      "outputs": []
    },
    {
      "cell_type": "code",
      "source": [
        "ct = make_column_transformer(\n",
        "    (MinMaxScaler(), ['tokenized_country','year','adult_mortality','infant_deaths', 'alcohol', 'percentage_expenditure', 'hepatitus_b', 'measles',\n",
        "                       'bmi', 'under_five_deaths','polio','total_expenditure', 'diphtheria', 'hiv_aids', 'gdp', 'population','thinness_1_19_years','thinness_5_9_years'\n",
        "                       ,'income_composition_resources', 'schooling']),\n",
        "    (OneHotEncoder(handle_unknown = \"ignore\"), ['status'])\n",
        ")"
      ],
      "metadata": {
        "id": "qCR34AcUOqXq"
      },
      "execution_count": 158,
      "outputs": []
    },
    {
      "cell_type": "markdown",
      "source": [
        "## Creating Train/Val/Test Dataset"
      ],
      "metadata": {
        "id": "oQGRBPQ_NreA"
      }
    },
    {
      "cell_type": "code",
      "source": [
        "y = df.select(pl.col('life_expectancy'))\n",
        "X = df.drop(['life_expectancy','country'])"
      ],
      "metadata": {
        "id": "fygWHY5FY_hI"
      },
      "execution_count": 139,
      "outputs": []
    },
    {
      "cell_type": "code",
      "source": [
        "X_train, X_test, y_train, y_test = train_test_split(X,y, test_size=0.2, random_state = 42)"
      ],
      "metadata": {
        "id": "J1PyqyT9Y3Yi"
      },
      "execution_count": 151,
      "outputs": []
    },
    {
      "cell_type": "code",
      "source": [
        "X_train = X_train.to_pandas()\n",
        "X_test = X_test.to_pandas()\n",
        "y_train = y_train.to_pandas()\n",
        "y_test = y_test.to_pandas()"
      ],
      "metadata": {
        "id": "7Evaqn7naQ8j"
      },
      "execution_count": 152,
      "outputs": []
    },
    {
      "cell_type": "code",
      "source": [
        "X_train.columns"
      ],
      "metadata": {
        "colab": {
          "base_uri": "https://localhost:8080/"
        },
        "id": "0vk56zupah4w",
        "outputId": "8515231e-d95f-493a-d94d-37ecb93e1a1b"
      },
      "execution_count": 156,
      "outputs": [
        {
          "output_type": "execute_result",
          "data": {
            "text/plain": [
              "Index(['year', 'status', 'adult_mortality', 'infant_deaths', 'alcohol',\n",
              "       'percentage_expenditure', 'hepatitus_b', 'measles', 'bmi',\n",
              "       'under_five_deaths', 'polio', 'total_expenditure', 'diphtheria',\n",
              "       'hiv_aids', 'gdp', 'population', 'thinness_1_19_years',\n",
              "       'thinness_5_9_years', 'income_composition_resources', 'schooling',\n",
              "       'tokenized_country'],\n",
              "      dtype='object')"
            ]
          },
          "metadata": {},
          "execution_count": 156
        }
      ]
    },
    {
      "cell_type": "code",
      "source": [
        "# Fit column transformer on the training data only (doing so on test data would result in data leakage)\n",
        "ct.fit(X_train)\n",
        "\n",
        "# Transform training and test data with normalization (MinMaxScalar) and one hot encoding (OneHotEncoder)\n",
        "X_train_normal = ct.transform(X_train)\n",
        "X_test_normal = ct.transform(X_test)\n",
        ""
      ],
      "metadata": {
        "id": "E-kviH5-NvhF"
      },
      "execution_count": 159,
      "outputs": []
    },
    {
      "cell_type": "code",
      "source": [
        "X_train_normal.shape"
      ],
      "metadata": {
        "colab": {
          "base_uri": "https://localhost:8080/"
        },
        "id": "Kj2sJhgVa2lx",
        "outputId": "53616a7b-720f-453a-a3dd-8c4285f6b7ed"
      },
      "execution_count": 163,
      "outputs": [
        {
          "output_type": "execute_result",
          "data": {
            "text/plain": [
              "(1319, 22)"
            ]
          },
          "metadata": {},
          "execution_count": 163
        }
      ]
    },
    {
      "cell_type": "code",
      "source": [
        "X_train.shape"
      ],
      "metadata": {
        "colab": {
          "base_uri": "https://localhost:8080/"
        },
        "id": "Y1nEFRwQa8bu",
        "outputId": "3acd2df1-ae3d-4678-8355-a4ae2b1e9f04"
      },
      "execution_count": 164,
      "outputs": [
        {
          "output_type": "execute_result",
          "data": {
            "text/plain": [
              "(1319, 21)"
            ]
          },
          "metadata": {},
          "execution_count": 164
        }
      ]
    },
    {
      "cell_type": "code",
      "source": [
        "X_train_tf.shape, X_test_tf.shape, y_train_tf.shape, y_test_tf.shape"
      ],
      "metadata": {
        "colab": {
          "base_uri": "https://localhost:8080/"
        },
        "id": "hJ84B2o1bPGJ",
        "outputId": "6e360271-7def-4d7a-ffcd-e166deabe6df"
      },
      "execution_count": 170,
      "outputs": [
        {
          "output_type": "execute_result",
          "data": {
            "text/plain": [
              "(TensorShape([1319, 22]),\n",
              " TensorShape([330, 22]),\n",
              " TensorShape([1319, 1]),\n",
              " TensorShape([330, 1]))"
            ]
          },
          "metadata": {},
          "execution_count": 170
        }
      ]
    },
    {
      "cell_type": "code",
      "source": [
        "# Convert to Tensors\n",
        "X_train_tf = tf.constant(X_train_normal)\n",
        "X_test_tf = tf.constant(X_test_normal)\n",
        "y_train_tf = tf.constant(y_train)\n",
        "y_test_tf = tf.constant(y_test)"
      ],
      "metadata": {
        "id": "HUtbP-98cal0"
      },
      "execution_count": 211,
      "outputs": []
    },
    {
      "cell_type": "markdown",
      "source": [
        "## Building Regression Model"
      ],
      "metadata": {
        "id": "Rfv1xtmTNv4S"
      }
    },
    {
      "cell_type": "code",
      "source": [
        "model = tf.keras.Sequential([])\n",
        "\n",
        "model.add(tf.keras.layers.Dense(1))"
      ],
      "metadata": {
        "id": "zorBRuIba_3c"
      },
      "execution_count": 185,
      "outputs": []
    },
    {
      "cell_type": "code",
      "source": [
        "model.layers"
      ],
      "metadata": {
        "colab": {
          "base_uri": "https://localhost:8080/"
        },
        "id": "Z7_NwjJ7d_Cc",
        "outputId": "9e6599d6-3896-4e82-d795-e741af3d546d"
      },
      "execution_count": 187,
      "outputs": [
        {
          "output_type": "execute_result",
          "data": {
            "text/plain": [
              "[<keras.src.layers.core.dense.Dense at 0x7c2c2fa2a350>]"
            ]
          },
          "metadata": {},
          "execution_count": 187
        }
      ]
    },
    {
      "cell_type": "code",
      "source": [
        "# Compile and fit\n",
        "\n",
        "model.compile(optimizer = tf.keras.optimizers.Adam(learning_rate=0.001),\n",
        "              loss = 'mae',\n",
        "              metrics = ['mae',\n",
        "                        'mse'])\n",
        "\n",
        "\n",
        "\n",
        "history = model.fit(X_train_tf, y_train_tf, epochs = 100)"
      ],
      "metadata": {
        "colab": {
          "base_uri": "https://localhost:8080/"
        },
        "id": "A1AvzDbKd_XH",
        "outputId": "9634a089-78ac-4a28-b9e6-931d7e9cc1a8"
      },
      "execution_count": 212,
      "outputs": [
        {
          "output_type": "stream",
          "name": "stdout",
          "text": [
            "Epoch 1/100\n",
            "42/42 [==============================] - 0s 1ms/step - loss: 68.4289 - mae: 68.4289 - mse: 4758.2178\n",
            "Epoch 2/100\n",
            "42/42 [==============================] - 0s 1ms/step - loss: 68.0740 - mae: 68.0740 - mse: 4709.4316\n",
            "Epoch 3/100\n",
            "42/42 [==============================] - 0s 1ms/step - loss: 67.7188 - mae: 67.7188 - mse: 4660.8799\n",
            "Epoch 4/100\n",
            "42/42 [==============================] - 0s 1ms/step - loss: 67.3636 - mae: 67.3636 - mse: 4612.4819\n",
            "Epoch 5/100\n",
            "42/42 [==============================] - 0s 1ms/step - loss: 67.0078 - mae: 67.0078 - mse: 4564.3096\n",
            "Epoch 6/100\n",
            "42/42 [==============================] - 0s 1ms/step - loss: 66.6521 - mae: 66.6521 - mse: 4516.4126\n",
            "Epoch 7/100\n",
            "42/42 [==============================] - 0s 1ms/step - loss: 66.2970 - mae: 66.2970 - mse: 4468.9941\n",
            "Epoch 8/100\n",
            "42/42 [==============================] - 0s 1ms/step - loss: 65.9414 - mae: 65.9414 - mse: 4421.7012\n",
            "Epoch 9/100\n",
            "42/42 [==============================] - 0s 1ms/step - loss: 65.5860 - mae: 65.5860 - mse: 4374.5044\n",
            "Epoch 10/100\n",
            "42/42 [==============================] - 0s 1ms/step - loss: 65.2310 - mae: 65.2310 - mse: 4327.7822\n",
            "Epoch 11/100\n",
            "42/42 [==============================] - 0s 1ms/step - loss: 64.8757 - mae: 64.8757 - mse: 4281.2417\n",
            "Epoch 12/100\n",
            "42/42 [==============================] - 0s 1ms/step - loss: 64.5203 - mae: 64.5203 - mse: 4234.9365\n",
            "Epoch 13/100\n",
            "42/42 [==============================] - 0s 1ms/step - loss: 64.1643 - mae: 64.1643 - mse: 4188.8960\n",
            "Epoch 14/100\n",
            "42/42 [==============================] - 0s 1ms/step - loss: 63.8086 - mae: 63.8086 - mse: 4142.9380\n",
            "Epoch 15/100\n",
            "42/42 [==============================] - 0s 1ms/step - loss: 63.4533 - mae: 63.4533 - mse: 4097.4082\n",
            "Epoch 16/100\n",
            "42/42 [==============================] - 0s 1ms/step - loss: 63.0978 - mae: 63.0978 - mse: 4052.1846\n",
            "Epoch 17/100\n",
            "42/42 [==============================] - 0s 1ms/step - loss: 62.7428 - mae: 62.7428 - mse: 4007.2998\n",
            "Epoch 18/100\n",
            "42/42 [==============================] - 0s 1ms/step - loss: 62.3874 - mae: 62.3874 - mse: 3962.4753\n",
            "Epoch 19/100\n",
            "42/42 [==============================] - 0s 1ms/step - loss: 62.0321 - mae: 62.0321 - mse: 3917.9861\n",
            "Epoch 20/100\n",
            "42/42 [==============================] - 0s 1ms/step - loss: 61.6765 - mae: 61.6765 - mse: 3873.7402\n",
            "Epoch 21/100\n",
            "42/42 [==============================] - 0s 1ms/step - loss: 61.3210 - mae: 61.3210 - mse: 3829.6975\n",
            "Epoch 22/100\n",
            "42/42 [==============================] - 0s 1ms/step - loss: 60.9654 - mae: 60.9654 - mse: 3785.9871\n",
            "Epoch 23/100\n",
            "42/42 [==============================] - 0s 1ms/step - loss: 60.6100 - mae: 60.6100 - mse: 3742.4724\n",
            "Epoch 24/100\n",
            "42/42 [==============================] - 0s 1ms/step - loss: 60.2549 - mae: 60.2549 - mse: 3699.3486\n",
            "Epoch 25/100\n",
            "42/42 [==============================] - 0s 1ms/step - loss: 59.8995 - mae: 59.8995 - mse: 3656.3484\n",
            "Epoch 26/100\n",
            "42/42 [==============================] - 0s 1ms/step - loss: 59.5444 - mae: 59.5444 - mse: 3613.6470\n",
            "Epoch 27/100\n",
            "42/42 [==============================] - 0s 1ms/step - loss: 59.1890 - mae: 59.1890 - mse: 3571.2786\n",
            "Epoch 28/100\n",
            "42/42 [==============================] - 0s 1ms/step - loss: 58.8337 - mae: 58.8337 - mse: 3529.1228\n",
            "Epoch 29/100\n",
            "42/42 [==============================] - 0s 1ms/step - loss: 58.4778 - mae: 58.4778 - mse: 3487.1335\n",
            "Epoch 30/100\n",
            "42/42 [==============================] - 0s 1ms/step - loss: 58.1223 - mae: 58.1223 - mse: 3445.4512\n",
            "Epoch 31/100\n",
            "42/42 [==============================] - 0s 1ms/step - loss: 57.7665 - mae: 57.7665 - mse: 3403.9314\n",
            "Epoch 32/100\n",
            "42/42 [==============================] - 0s 1ms/step - loss: 57.4114 - mae: 57.4114 - mse: 3362.8772\n",
            "Epoch 33/100\n",
            "42/42 [==============================] - 0s 1ms/step - loss: 57.0563 - mae: 57.0563 - mse: 3321.9875\n",
            "Epoch 34/100\n",
            "42/42 [==============================] - 0s 1ms/step - loss: 56.7018 - mae: 56.7018 - mse: 3281.4231\n",
            "Epoch 35/100\n",
            "42/42 [==============================] - 0s 1ms/step - loss: 56.3464 - mae: 56.3464 - mse: 3241.1089\n",
            "Epoch 36/100\n",
            "42/42 [==============================] - 0s 1ms/step - loss: 55.9916 - mae: 55.9916 - mse: 3201.0020\n",
            "Epoch 37/100\n",
            "42/42 [==============================] - 0s 1ms/step - loss: 55.6365 - mae: 55.6365 - mse: 3161.1267\n",
            "Epoch 38/100\n",
            "42/42 [==============================] - 0s 1ms/step - loss: 55.2815 - mae: 55.2815 - mse: 3121.6685\n",
            "Epoch 39/100\n",
            "42/42 [==============================] - 0s 1ms/step - loss: 54.9261 - mae: 54.9261 - mse: 3082.2534\n",
            "Epoch 40/100\n",
            "42/42 [==============================] - 0s 1ms/step - loss: 54.5708 - mae: 54.5708 - mse: 3043.1384\n",
            "Epoch 41/100\n",
            "42/42 [==============================] - 0s 1ms/step - loss: 54.2150 - mae: 54.2150 - mse: 3004.3115\n",
            "Epoch 42/100\n",
            "42/42 [==============================] - 0s 1ms/step - loss: 53.8604 - mae: 53.8604 - mse: 2965.7849\n",
            "Epoch 43/100\n",
            "42/42 [==============================] - 0s 1ms/step - loss: 53.5050 - mae: 53.5050 - mse: 2927.4316\n",
            "Epoch 44/100\n",
            "42/42 [==============================] - 0s 1ms/step - loss: 53.1496 - mae: 53.1496 - mse: 2889.3291\n",
            "Epoch 45/100\n",
            "42/42 [==============================] - 0s 1ms/step - loss: 52.7945 - mae: 52.7945 - mse: 2851.7122\n",
            "Epoch 46/100\n",
            "42/42 [==============================] - 0s 1ms/step - loss: 52.4397 - mae: 52.4397 - mse: 2814.0952\n",
            "Epoch 47/100\n",
            "42/42 [==============================] - 0s 1ms/step - loss: 52.0840 - mae: 52.0840 - mse: 2776.7632\n",
            "Epoch 48/100\n",
            "42/42 [==============================] - 0s 1ms/step - loss: 51.7287 - mae: 51.7287 - mse: 2739.6880\n",
            "Epoch 49/100\n",
            "42/42 [==============================] - 0s 1ms/step - loss: 51.3738 - mae: 51.3738 - mse: 2702.8953\n",
            "Epoch 50/100\n",
            "42/42 [==============================] - 0s 1ms/step - loss: 51.0187 - mae: 51.0187 - mse: 2666.4084\n",
            "Epoch 51/100\n",
            "42/42 [==============================] - 0s 1ms/step - loss: 50.6637 - mae: 50.6637 - mse: 2630.2004\n",
            "Epoch 52/100\n",
            "42/42 [==============================] - 0s 1ms/step - loss: 50.3082 - mae: 50.3082 - mse: 2594.2004\n",
            "Epoch 53/100\n",
            "42/42 [==============================] - 0s 1ms/step - loss: 49.9532 - mae: 49.9532 - mse: 2558.4841\n",
            "Epoch 54/100\n",
            "42/42 [==============================] - 0s 1ms/step - loss: 49.5980 - mae: 49.5980 - mse: 2522.9546\n",
            "Epoch 55/100\n",
            "42/42 [==============================] - 0s 1ms/step - loss: 49.2422 - mae: 49.2422 - mse: 2487.6562\n",
            "Epoch 56/100\n",
            "42/42 [==============================] - 0s 1ms/step - loss: 48.8867 - mae: 48.8867 - mse: 2452.7339\n",
            "Epoch 57/100\n",
            "42/42 [==============================] - 0s 1ms/step - loss: 48.5314 - mae: 48.5314 - mse: 2417.9963\n",
            "Epoch 58/100\n",
            "42/42 [==============================] - 0s 1ms/step - loss: 48.1755 - mae: 48.1755 - mse: 2383.4336\n",
            "Epoch 59/100\n",
            "42/42 [==============================] - 0s 1ms/step - loss: 47.8200 - mae: 47.8200 - mse: 2349.2759\n",
            "Epoch 60/100\n",
            "42/42 [==============================] - 0s 1ms/step - loss: 47.4648 - mae: 47.4648 - mse: 2315.2148\n",
            "Epoch 61/100\n",
            "42/42 [==============================] - 0s 1ms/step - loss: 47.1094 - mae: 47.1094 - mse: 2281.5640\n",
            "Epoch 62/100\n",
            "42/42 [==============================] - 0s 1ms/step - loss: 46.7545 - mae: 46.7545 - mse: 2248.1128\n",
            "Epoch 63/100\n",
            "42/42 [==============================] - 0s 1ms/step - loss: 46.3996 - mae: 46.3996 - mse: 2214.9700\n",
            "Epoch 64/100\n",
            "42/42 [==============================] - 0s 1ms/step - loss: 46.0437 - mae: 46.0437 - mse: 2182.0715\n",
            "Epoch 65/100\n",
            "42/42 [==============================] - 0s 1ms/step - loss: 45.6883 - mae: 45.6883 - mse: 2149.3169\n",
            "Epoch 66/100\n",
            "42/42 [==============================] - 0s 1ms/step - loss: 45.3327 - mae: 45.3327 - mse: 2116.8879\n",
            "Epoch 67/100\n",
            "42/42 [==============================] - 0s 1ms/step - loss: 44.9775 - mae: 44.9775 - mse: 2084.7141\n",
            "Epoch 68/100\n",
            "42/42 [==============================] - 0s 1ms/step - loss: 44.6225 - mae: 44.6225 - mse: 2052.8333\n",
            "Epoch 69/100\n",
            "42/42 [==============================] - 0s 1ms/step - loss: 44.2670 - mae: 44.2670 - mse: 2021.1683\n",
            "Epoch 70/100\n",
            "42/42 [==============================] - 0s 1ms/step - loss: 43.9122 - mae: 43.9122 - mse: 1989.8748\n",
            "Epoch 71/100\n",
            "42/42 [==============================] - 0s 1ms/step - loss: 43.5575 - mae: 43.5575 - mse: 1958.8237\n",
            "Epoch 72/100\n",
            "42/42 [==============================] - 0s 1ms/step - loss: 43.2024 - mae: 43.2024 - mse: 1927.9026\n",
            "Epoch 73/100\n",
            "42/42 [==============================] - 0s 1ms/step - loss: 42.8474 - mae: 42.8474 - mse: 1897.3463\n",
            "Epoch 74/100\n",
            "42/42 [==============================] - 0s 1ms/step - loss: 42.4918 - mae: 42.4918 - mse: 1866.9562\n",
            "Epoch 75/100\n",
            "42/42 [==============================] - 0s 1ms/step - loss: 42.1373 - mae: 42.1373 - mse: 1836.9890\n",
            "Epoch 76/100\n",
            "42/42 [==============================] - 0s 1ms/step - loss: 41.7818 - mae: 41.7818 - mse: 1807.0367\n",
            "Epoch 77/100\n",
            "42/42 [==============================] - 0s 1ms/step - loss: 41.4265 - mae: 41.4265 - mse: 1777.4672\n",
            "Epoch 78/100\n",
            "42/42 [==============================] - 0s 1ms/step - loss: 41.0713 - mae: 41.0713 - mse: 1748.0535\n",
            "Epoch 79/100\n",
            "42/42 [==============================] - 0s 1ms/step - loss: 40.7161 - mae: 40.7161 - mse: 1719.0885\n",
            "Epoch 80/100\n",
            "42/42 [==============================] - 0s 1ms/step - loss: 40.3609 - mae: 40.3609 - mse: 1690.2157\n",
            "Epoch 81/100\n",
            "42/42 [==============================] - 0s 1ms/step - loss: 40.0055 - mae: 40.0055 - mse: 1661.6317\n",
            "Epoch 82/100\n",
            "42/42 [==============================] - 0s 1ms/step - loss: 39.6501 - mae: 39.6501 - mse: 1633.3353\n",
            "Epoch 83/100\n",
            "42/42 [==============================] - 0s 1ms/step - loss: 39.2948 - mae: 39.2948 - mse: 1605.2633\n",
            "Epoch 84/100\n",
            "42/42 [==============================] - 0s 1ms/step - loss: 38.9396 - mae: 38.9396 - mse: 1577.3911\n",
            "Epoch 85/100\n",
            "42/42 [==============================] - 0s 1ms/step - loss: 38.5842 - mae: 38.5842 - mse: 1549.9772\n",
            "Epoch 86/100\n",
            "42/42 [==============================] - 0s 1ms/step - loss: 38.2289 - mae: 38.2289 - mse: 1522.6393\n",
            "Epoch 87/100\n",
            "42/42 [==============================] - 0s 1ms/step - loss: 37.8731 - mae: 37.8731 - mse: 1495.6195\n",
            "Epoch 88/100\n",
            "42/42 [==============================] - 0s 1ms/step - loss: 37.5182 - mae: 37.5182 - mse: 1468.8621\n",
            "Epoch 89/100\n",
            "42/42 [==============================] - 0s 1ms/step - loss: 37.1632 - mae: 37.1632 - mse: 1442.3368\n",
            "Epoch 90/100\n",
            "42/42 [==============================] - 0s 1ms/step - loss: 36.8079 - mae: 36.8079 - mse: 1416.0594\n",
            "Epoch 91/100\n",
            "42/42 [==============================] - 0s 1ms/step - loss: 36.4525 - mae: 36.4525 - mse: 1390.0403\n",
            "Epoch 92/100\n",
            "42/42 [==============================] - 0s 1ms/step - loss: 36.0970 - mae: 36.0970 - mse: 1364.2540\n",
            "Epoch 93/100\n",
            "42/42 [==============================] - 0s 1ms/step - loss: 35.7416 - mae: 35.7416 - mse: 1338.7885\n",
            "Epoch 94/100\n",
            "42/42 [==============================] - 0s 1ms/step - loss: 35.3860 - mae: 35.3860 - mse: 1313.6011\n",
            "Epoch 95/100\n",
            "42/42 [==============================] - 0s 1ms/step - loss: 35.0301 - mae: 35.0301 - mse: 1288.5353\n",
            "Epoch 96/100\n",
            "42/42 [==============================] - 0s 1ms/step - loss: 34.6752 - mae: 34.6752 - mse: 1263.9154\n",
            "Epoch 97/100\n",
            "42/42 [==============================] - 0s 1ms/step - loss: 34.3199 - mae: 34.3199 - mse: 1239.5299\n",
            "Epoch 98/100\n",
            "42/42 [==============================] - 0s 1ms/step - loss: 33.9651 - mae: 33.9651 - mse: 1215.2224\n",
            "Epoch 99/100\n",
            "42/42 [==============================] - 0s 1ms/step - loss: 33.6097 - mae: 33.6097 - mse: 1191.3661\n",
            "Epoch 100/100\n",
            "42/42 [==============================] - 0s 1ms/step - loss: 33.2542 - mae: 33.2542 - mse: 1167.5487\n"
          ]
        }
      ]
    },
    {
      "cell_type": "code",
      "source": [
        "pd.DataFrame(history.history['loss']).plot()\n",
        "plt.ylabel(\"loss\")\n",
        "plt.xlabel(\"epochs\")"
      ],
      "metadata": {
        "colab": {
          "base_uri": "https://localhost:8080/",
          "height": 470
        },
        "id": "7NbhhZ5PexGU",
        "outputId": "c5c20aeb-12d1-4f33-f7d8-746dac9a5c98"
      },
      "execution_count": 213,
      "outputs": [
        {
          "output_type": "execute_result",
          "data": {
            "text/plain": [
              "Text(0.5, 0, 'epochs')"
            ]
          },
          "metadata": {},
          "execution_count": 213
        },
        {
          "output_type": "display_data",
          "data": {
            "text/plain": [
              "<Figure size 640x480 with 1 Axes>"
            ],
            "image/png": "[encoded data removed]"
          },
          "metadata": {}
        }
      ]
    },
    {
      "cell_type": "code",
      "source": [
        "model.evaluate(X_test_tf,y_test_tf)\n"
      ],
      "metadata": {
        "colab": {
          "base_uri": "https://localhost:8080/"
        },
        "id": "9DkBcwe_eOYR",
        "outputId": "a8949a5a-487d-42aa-f0b8-c2401d7064ba"
      },
      "execution_count": 214,
      "outputs": [
        {
          "output_type": "stream",
          "name": "stdout",
          "text": [
            "11/11 [==============================] - 0s 2ms/step - loss: 33.4253 - mae: 33.4253 - mse: 1175.0206\n"
          ]
        },
        {
          "output_type": "execute_result",
          "data": {
            "text/plain": [
              "[33.425315856933594, 33.425315856933594, 1175.0206298828125]"
            ]
          },
          "metadata": {},
          "execution_count": 214
        }
      ]
    },
    {
      "cell_type": "markdown",
      "source": [
        "## Experiment to improve model\n",
        "-  increase epochs to 500 given the loss didn't trail off\n",
        "- Add 2,3,4 layers @ scaling nuerons\n",
        "- Change the optimizer to SGD\n",
        "- change learning rate"
      ],
      "metadata": {
        "id": "hbgZOvtkfVbM"
      }
    },
    {
      "cell_type": "code",
      "source": [
        "tf.random.random_seed = 42\n",
        "model = tf.keras.Sequential([])\n",
        "\n",
        "model.add(tf.keras.layers.Dense(1))\n",
        "\n",
        "model.compile(optimizer = tf.keras.optimizers.Adam(learning_rate=0.001),\n",
        "              loss = 'mae',\n",
        "              metrics = ['mae',\n",
        "                        'mse'])\n",
        "\n",
        "\n",
        "\n",
        "history = model.fit(X_train_tf, y_train_tf, epochs = 200,verbose = 0)"
      ],
      "metadata": {
        "id": "wPg_hshegHlK"
      },
      "execution_count": 233,
      "outputs": []
    },
    {
      "cell_type": "code",
      "source": [
        "pd.DataFrame(history.history['loss']).plot()\n",
        "plt.ylabel(\"loss\")\n",
        "plt.xlabel(\"epochs\")"
      ],
      "metadata": {
        "colab": {
          "base_uri": "https://localhost:8080/",
          "height": 466
        },
        "id": "XAnZRdqcgSxb",
        "outputId": "ac726f56-9543-4a4a-eab1-8448d19ead26"
      },
      "execution_count": 234,
      "outputs": [
        {
          "output_type": "execute_result",
          "data": {
            "text/plain": [
              "Text(0.5, 0, 'epochs')"
            ]
          },
          "metadata": {},
          "execution_count": 234
        },
        {
          "output_type": "display_data",
          "data": {
            "text/plain": [
              "<Figure size 640x480 with 1 Axes>"
            ],
            "image/png": "[encoded data removed]"
          },
          "metadata": {}
        }
      ]
    },
    {
      "cell_type": "code",
      "source": [
        "loss, mae, mse = model.evaluate(X_test_tf, y_test_tf)"
      ],
      "metadata": {
        "colab": {
          "base_uri": "https://localhost:8080/"
        },
        "id": "BB1miCrkgcTl",
        "outputId": "d6fc1272-dc98-4913-9c6b-034fc8ca9ba5"
      },
      "execution_count": 235,
      "outputs": [
        {
          "output_type": "stream",
          "name": "stdout",
          "text": [
            "11/11 [==============================] - 0s 2ms/step - loss: 7.0421 - mae: 7.0421 - mse: 84.3774\n"
          ]
        }
      ]
    },
    {
      "cell_type": "code",
      "source": [
        "tf.random.random_seed = 42\n",
        "# Model 2, Add Layer\n",
        "model_1 = tf.keras.Sequential([\n",
        "    tf.keras.layers.Dense(100),\n",
        "    tf.keras.layers.Dense(1)\n",
        "])\n",
        "\n",
        "model_1.compile(optimizer = tf.keras.optimizers.Adam(learning_rate=0.001),\n",
        "              loss = 'mae',\n",
        "              metrics = ['mae',\n",
        "                        'mse'])\n",
        "\n",
        "\n",
        "\n",
        "history = model_1.fit(X_train_tf, y_train_tf, epochs = 200, verbose = 0)"
      ],
      "metadata": {
        "id": "k3IGk4Xsgffn"
      },
      "execution_count": 230,
      "outputs": []
    },
    {
      "cell_type": "code",
      "source": [
        "pd.DataFrame(history.history['loss']).plot()\n",
        "plt.ylabel(\"loss\")\n",
        "plt.xlabel(\"epochs\")"
      ],
      "metadata": {
        "colab": {
          "base_uri": "https://localhost:8080/",
          "height": 466
        },
        "id": "KUJSbir-gtat",
        "outputId": "9ec2313f-5b82-4218-d7de-07d399770ecd"
      },
      "execution_count": 231,
      "outputs": [
        {
          "output_type": "execute_result",
          "data": {
            "text/plain": [
              "Text(0.5, 0, 'epochs')"
            ]
          },
          "metadata": {},
          "execution_count": 231
        },
        {
          "output_type": "display_data",
          "data": {
            "text/plain": [
              "<Figure size 640x480 with 1 Axes>"
            ],
            "image/png": "[encoded data removed]"
          },
          "metadata": {}
        }
      ]
    },
    {
      "cell_type": "code",
      "source": [
        "loss_1, mae_1, mse_1 = model_1.evaluate(X_test_tf, y_test_tf)"
      ],
      "metadata": {
        "colab": {
          "base_uri": "https://localhost:8080/"
        },
        "id": "-BGAsae6gz5j",
        "outputId": "e7c7d42e-4ed0-4593-931a-87250d7ca117"
      },
      "execution_count": 238,
      "outputs": [
        {
          "output_type": "stream",
          "name": "stdout",
          "text": [
            "11/11 [==============================] - 0s 1ms/step - loss: 2.8057 - mae: 2.8057 - mse: 14.0056\n"
          ]
        }
      ]
    },
    {
      "cell_type": "code",
      "source": [
        "tf.random.random_seed = 42\n",
        "# Model 2, Add Layer\n",
        "model_2 = tf.keras.Sequential([\n",
        "    tf.keras.layers.Dense(100),\n",
        "    tf.keras.layers.Dense(50),\n",
        "    tf.keras.layers.Dense(1)\n",
        "])\n",
        "\n",
        "model_2.compile(optimizer = tf.keras.optimizers.Adam(learning_rate=0.001),\n",
        "              loss = 'mae',\n",
        "              metrics = ['mae',\n",
        "                        'mse'])\n",
        "\n",
        "\n",
        "\n",
        "history = model_2.fit(X_train_tf, y_train_tf, epochs = 200, verbose = 0)"
      ],
      "metadata": {
        "id": "G-0EhGOUg-DO"
      },
      "execution_count": 236,
      "outputs": []
    },
    {
      "cell_type": "code",
      "source": [
        "pd.DataFrame(history.history['loss']).plot()\n",
        "plt.ylabel(\"loss\")\n",
        "plt.xlabel(\"epochs\")"
      ],
      "metadata": {
        "colab": {
          "base_uri": "https://localhost:8080/",
          "height": 466
        },
        "id": "UIaZKtn9hS98",
        "outputId": "37ee4231-7be0-4f77-9fee-76b581c331ce"
      },
      "execution_count": 237,
      "outputs": [
        {
          "output_type": "execute_result",
          "data": {
            "text/plain": [
              "Text(0.5, 0, 'epochs')"
            ]
          },
          "metadata": {},
          "execution_count": 237
        },
        {
          "output_type": "display_data",
          "data": {
            "text/plain": [
              "<Figure size 640x480 with 1 Axes>"
            ],
            "image/png": "[encoded data removed]"
          },
          "metadata": {}
        }
      ]
    },
    {
      "cell_type": "code",
      "source": [
        "loss_2, mae_2, mse_2 = model_2.evaluate(X_test_tf, y_test_tf)"
      ],
      "metadata": {
        "colab": {
          "base_uri": "https://localhost:8080/"
        },
        "id": "ptQOwqPChVI1",
        "outputId": "95df7df2-d02a-4588-bc97-bfd245ae54a0"
      },
      "execution_count": 239,
      "outputs": [
        {
          "output_type": "stream",
          "name": "stdout",
          "text": [
            "11/11 [==============================] - 0s 4ms/step - loss: 2.7831 - mae: 2.7831 - mse: 13.6981\n"
          ]
        }
      ]
    },
    {
      "cell_type": "code",
      "source": [
        "tf.random.random_seed = 42\n",
        "# Model 3, Add Layer\n",
        "model_3 = tf.keras.Sequential([\n",
        "    tf.keras.layers.Dense(200),\n",
        "    tf.keras.layers.Dense(100),\n",
        "    tf.keras.layers.Dense(50),\n",
        "    tf.keras.layers.Dense(1)\n",
        "])\n",
        "\n",
        "model_3.compile(optimizer = tf.keras.optimizers.Adam(learning_rate=0.001),\n",
        "              loss = 'mae',\n",
        "              metrics = ['mae',\n",
        "                        'mse'])\n",
        "\n",
        "\n",
        "\n",
        "history = model_3.fit(X_train_tf, y_train_tf, epochs = 200, verbose = 0)"
      ],
      "metadata": {
        "id": "Go7ZqafVhbEN"
      },
      "execution_count": 240,
      "outputs": []
    },
    {
      "cell_type": "code",
      "source": [
        "pd.DataFrame(history.history['loss']).plot()\n",
        "plt.ylabel(\"loss\")\n",
        "plt.xlabel(\"epochs\")"
      ],
      "metadata": {
        "colab": {
          "base_uri": "https://localhost:8080/",
          "height": 466
        },
        "id": "BRhnzWg4hkfG",
        "outputId": "21f8b2ec-3c52-48c9-a719-093b0ad20273"
      },
      "execution_count": 241,
      "outputs": [
        {
          "output_type": "execute_result",
          "data": {
            "text/plain": [
              "Text(0.5, 0, 'epochs')"
            ]
          },
          "metadata": {},
          "execution_count": 241
        },
        {
          "output_type": "display_data",
          "data": {
            "text/plain": [
              "<Figure size 640x480 with 1 Axes>"
            ],
            "image/png": "[encoded data removed]"
          },
          "metadata": {}
        }
      ]
    },
    {
      "cell_type": "code",
      "source": [
        "loss_3, mae_3, mse_3 = model_3.evaluate(X_test_tf, y_test_tf)"
      ],
      "metadata": {
        "colab": {
          "base_uri": "https://localhost:8080/"
        },
        "id": "kq7NsaM_hlm0",
        "outputId": "e31ace25-f753-42c9-a80c-b56faf5c2a15"
      },
      "execution_count": 242,
      "outputs": [
        {
          "output_type": "stream",
          "name": "stdout",
          "text": [
            "11/11 [==============================] - 0s 1ms/step - loss: 2.9879 - mae: 2.9879 - mse: 15.7288\n"
          ]
        }
      ]
    },
    {
      "cell_type": "code",
      "source": [
        "tf.random.random_seed = 42\n",
        "# Model 4,  Change the optimizer to SGD\n",
        "model_4 = tf.keras.Sequential([\n",
        "    tf.keras.layers.Dense(200),\n",
        "    tf.keras.layers.Dense(100),\n",
        "    tf.keras.layers.Dense(50),\n",
        "    tf.keras.layers.Dense(1)\n",
        "])\n",
        "\n",
        "model_4.compile(optimizer = tf.keras.optimizers.SGD(learning_rate=0.001),\n",
        "              loss = 'mae',\n",
        "              metrics = ['mae',\n",
        "                        'mse'])\n",
        "\n",
        "\n",
        "\n",
        "history = model_4.fit(X_train_tf, y_train_tf, epochs = 200, verbose = 0)"
      ],
      "metadata": {
        "id": "s7XpY-TBhvm6"
      },
      "execution_count": 243,
      "outputs": []
    },
    {
      "cell_type": "code",
      "source": [
        "pd.DataFrame(history.history['loss']).plot()\n",
        "plt.ylabel(\"loss\")\n",
        "plt.xlabel(\"epochs\")"
      ],
      "metadata": {
        "colab": {
          "base_uri": "https://localhost:8080/",
          "height": 466
        },
        "id": "Jr1jCr82hzEI",
        "outputId": "056ee66f-dea6-48fa-c0e7-e16c8ffe9df7"
      },
      "execution_count": 244,
      "outputs": [
        {
          "output_type": "execute_result",
          "data": {
            "text/plain": [
              "Text(0.5, 0, 'epochs')"
            ]
          },
          "metadata": {},
          "execution_count": 244
        },
        {
          "output_type": "display_data",
          "data": {
            "text/plain": [
              "<Figure size 640x480 with 1 Axes>"
            ],
            "image/png": "[encoded data removed]"
          },
          "metadata": {}
        }
      ]
    },
    {
      "cell_type": "code",
      "source": [
        "loss_4, mae_4, mse_4 = model_4.evaluate(X_test_tf, y_test_tf)"
      ],
      "metadata": {
        "colab": {
          "base_uri": "https://localhost:8080/"
        },
        "id": "XPjZZlmlh0Qx",
        "outputId": "d0ba751c-060c-4184-c183-e2b029aed08c"
      },
      "execution_count": 245,
      "outputs": [
        {
          "output_type": "stream",
          "name": "stdout",
          "text": [
            "11/11 [==============================] - 0s 2ms/step - loss: 2.8051 - mae: 2.8051 - mse: 14.2522\n"
          ]
        }
      ]
    },
    {
      "cell_type": "code",
      "source": [
        "tf.random.random_seed = 42\n",
        "# Model 5,  Change the learning rate\n",
        "model_5 = tf.keras.Sequential([\n",
        "    tf.keras.layers.Dense(200),\n",
        "    tf.keras.layers.Dense(100),\n",
        "    tf.keras.layers.Dense(50),\n",
        "    tf.keras.layers.Dense(1)\n",
        "])\n",
        "\n",
        "model_5.compile(optimizer = tf.keras.optimizers.SGD(learning_rate=0.0001),\n",
        "              loss = 'mae',\n",
        "              metrics = ['mae',\n",
        "                        'mse'])\n",
        "\n",
        "\n",
        "\n",
        "history = model_5.fit(X_train_tf, y_train_tf, epochs = 200, verbose = 0)"
      ],
      "metadata": {
        "id": "w3pgjDcEh29X"
      },
      "execution_count": 246,
      "outputs": []
    },
    {
      "cell_type": "code",
      "source": [
        "pd.DataFrame(history.history['loss']).plot()\n",
        "plt.ylabel(\"loss\")\n",
        "plt.xlabel(\"epochs\")"
      ],
      "metadata": {
        "colab": {
          "base_uri": "https://localhost:8080/",
          "height": 466
        },
        "id": "Onu5SNAfh7pv",
        "outputId": "80d0088d-fa62-46d9-c1ac-8e492c21aea3"
      },
      "execution_count": 247,
      "outputs": [
        {
          "output_type": "execute_result",
          "data": {
            "text/plain": [
              "Text(0.5, 0, 'epochs')"
            ]
          },
          "metadata": {},
          "execution_count": 247
        },
        {
          "output_type": "display_data",
          "data": {
            "text/plain": [
              "<Figure size 640x480 with 1 Axes>"
            ],
            "image/png": "[encoded data removed]"
          },
          "metadata": {}
        }
      ]
    },
    {
      "cell_type": "code",
      "source": [
        "loss_5, mae_5, mse_5 = model_5.evaluate(X_test_tf, y_test_tf)"
      ],
      "metadata": {
        "colab": {
          "base_uri": "https://localhost:8080/"
        },
        "id": "KmXqMp22h9Rm",
        "outputId": "c8b1ce8c-2405-4e69-f289-24a6bdcde3e9"
      },
      "execution_count": 252,
      "outputs": [
        {
          "output_type": "stream",
          "name": "stdout",
          "text": [
            "11/11 [==============================] - 0s 1ms/step - loss: 4.3700 - mae: 4.3700 - mse: 34.9040\n"
          ]
        }
      ]
    },
    {
      "cell_type": "code",
      "source": [
        "pd.DataFrame({\"name\":['model','model_1','model_2','model_3','model_4','model_5'],\n",
        "              \"loss\":[loss,loss_1,loss_2,loss_3,loss_4,loss_5],\n",
        "              \"mae\":[mae,mae_1,mae_2,mae_3,mae_4,mae_5],\n",
        "              \"mse\":[mse,mse_1,mse_2,mse_3,mse_4,mse_5]})"
      ],
      "metadata": {
        "colab": {
          "base_uri": "https://localhost:8080/",
          "height": 238
        },
        "id": "XrBeXsSah9rb",
        "outputId": "e6e2b308-d4f4-4885-cd7c-42951a3933dd"
      },
      "execution_count": 253,
      "outputs": [
        {
          "output_type": "execute_result",
          "data": {
            "text/plain": [
              "      name      loss       mae        mse\n",
              "0    model  7.042140  7.042140  84.377411\n",
              "1  model_1  2.805675  2.805675  14.005594\n",
              "2  model_2  2.783137  2.783137  13.698141\n",
              "3  model_3  2.987896  2.987896  15.728816\n",
              "4  model_4  2.805094  2.805094  14.252224\n",
              "5  model_5  4.369972  4.369972  34.904026"
            ],
            "text/html": [
              "\n",
              "  <div id=\"df-ed07bd84-c7e6-4fc9-9130-05018e8db3fa\" class=\"colab-df-container\">\n",
              "    <div>\n",
              "<style scoped>\n",
              "    .dataframe tbody tr th:only-of-type {\n",
              "        vertical-align: middle;\n",
              "    }\n",
              "\n",
              "    .dataframe tbody tr th {\n",
              "        vertical-align: top;\n",
              "    }\n",
              "\n",
              "    .dataframe thead th {\n",
              "        text-align: right;\n",
              "    }\n",
              "</style>\n",
              "<table border=\"1\" class=\"dataframe\">\n",
              "  <thead>\n",
              "    <tr style=\"text-align: right;\">\n",
              "      <th></th>\n",
              "      <th>name</th>\n",
              "      <th>loss</th>\n",
              "      <th>mae</th>\n",
              "      <th>mse</th>\n",
              "    </tr>\n",
              "  </thead>\n",
              "  <tbody>\n",
              "    <tr>\n",
              "      <th>0</th>\n",
              "      <td>model</td>\n",
              "      <td>7.042140</td>\n",
              "      <td>7.042140</td>\n",
              "      <td>84.377411</td>\n",
              "    </tr>\n",
              "    <tr>\n",
              "      <th>1</th>\n",
              "      <td>model_1</td>\n",
              "      <td>2.805675</td>\n",
              "      <td>2.805675</td>\n",
              "      <td>14.005594</td>\n",
              "    </tr>\n",
              "    <tr>\n",
              "      <th>2</th>\n",
              "      <td>model_2</td>\n",
              "      <td>2.783137</td>\n",
              "      <td>2.783137</td>\n",
              "      <td>13.698141</td>\n",
              "    </tr>\n",
              "    <tr>\n",
              "      <th>3</th>\n",
              "      <td>model_3</td>\n",
              "      <td>2.987896</td>\n",
              "      <td>2.987896</td>\n",
              "      <td>15.728816</td>\n",
              "    </tr>\n",
              "    <tr>\n",
              "      <th>4</th>\n",
              "      <td>model_4</td>\n",
              "      <td>2.805094</td>\n",
              "      <td>2.805094</td>\n",
              "      <td>14.252224</td>\n",
              "    </tr>\n",
              "    <tr>\n",
              "      <th>5</th>\n",
              "      <td>model_5</td>\n",
              "      <td>4.369972</td>\n",
              "      <td>4.369972</td>\n",
              "      <td>34.904026</td>\n",
              "    </tr>\n",
              "  </tbody>\n",
              "</table>\n",
              "</div>\n",
              "    <div class=\"colab-df-buttons\">\n",
              "\n",
              "  <div class=\"colab-df-container\">\n",
              "    <button class=\"colab-df-convert\" onclick=\"convertToInteractive('df-ed07bd84-c7e6-4fc9-9130-05018e8db3fa')\"\n",
              "            title=\"Convert this dataframe to an interactive table.\"\n",
              "            style=\"display:none;\">\n",
              "\n",
              "  <svg xmlns=\"http://www.w3.org/2000/svg\" height=\"24px\" viewBox=\"0 -960 960 960\">\n",
              "    <path d=\"M120-120v-720h720v720H120Zm60-500h600v-160H180v160Zm220 220h160v-160H400v160Zm0 220h160v-160H400v160ZM180-400h160v-160H180v160Zm440 0h160v-160H620v160ZM180-180h160v-160H180v160Zm440 0h160v-160H620v160Z\"/>\n",
              "  </svg>\n",
              "    </button>\n",
              "\n",
              "  <style>\n",
              "    .colab-df-container {\n",
              "      display:flex;\n",
              "      gap: 12px;\n",
              "    }\n",
              "\n",
              "    .colab-df-convert {\n",
              "      background-color: #E8F0FE;\n",
              "      border: none;\n",
              "      border-radius: 50%;\n",
              "      cursor: pointer;\n",
              "      display: none;\n",
              "      fill: #1967D2;\n",
              "      height: 32px;\n",
              "      padding: 0 0 0 0;\n",
              "      width: 32px;\n",
              "    }\n",
              "\n",
              "    .colab-df-convert:hover {\n",
              "      background-color: #E2EBFA;\n",
              "      box-shadow: 0px 1px 2px rgba(60, 64, 67, 0.3), 0px 1px 3px 1px rgba(60, 64, 67, 0.15);\n",
              "      fill: #174EA6;\n",
              "    }\n",
              "\n",
              "    .colab-df-buttons div {\n",
              "      margin-bottom: 4px;\n",
              "    }\n",
              "\n",
              "    [theme=dark] .colab-df-convert {\n",
              "      background-color: #3B4455;\n",
              "      fill: #D2E3FC;\n",
              "    }\n",
              "\n",
              "    [theme=dark] .colab-df-convert:hover {\n",
              "      background-color: #434B5C;\n",
              "      box-shadow: 0px 1px 3px 1px rgba(0, 0, 0, 0.15);\n",
              "      filter: drop-shadow(0px 1px 2px rgba(0, 0, 0, 0.3));\n",
              "      fill: #FFFFFF;\n",
              "    }\n",
              "  </style>\n",
              "\n",
              "    <script>\n",
              "      const buttonEl =\n",
              "        document.querySelector('#df-ed07bd84-c7e6-4fc9-9130-05018e8db3fa button.colab-df-convert');\n",
              "      buttonEl.style.display =\n",
              "        google.colab.kernel.accessAllowed ? 'block' : 'none';\n",
              "\n",
              "      async function convertToInteractive(key) {\n",
              "        const element = document.querySelector('#df-ed07bd84-c7e6-4fc9-9130-05018e8db3fa');\n",
              "        const dataTable =\n",
              "          await google.colab.kernel.invokeFunction('convertToInteractive',\n",
              "                                                    [key], {});\n",
              "        if (!dataTable) return;\n",
              "\n",
              "        const docLinkHtml = 'Like what you see? Visit the ' +\n",
              "          '<a target=\"_blank\" href=https://colab.research.google.com/notebooks/data_table.ipynb>data table notebook</a>'\n",
              "          + ' to learn more about interactive tables.';\n",
              "        element.innerHTML = '';\n",
              "        dataTable['output_type'] = 'display_data';\n",
              "        await google.colab.output.renderOutput(dataTable, element);\n",
              "        const docLink = document.createElement('div');\n",
              "        docLink.innerHTML = docLinkHtml;\n",
              "        element.appendChild(docLink);\n",
              "      }\n",
              "    </script>\n",
              "  </div>\n",
              "\n",
              "\n",
              "<div id=\"df-35343247-01a3-4e1f-86e0-93a861792106\">\n",
              "  <button class=\"colab-df-quickchart\" onclick=\"quickchart('df-35343247-01a3-4e1f-86e0-93a861792106')\"\n",
              "            title=\"Suggest charts\"\n",
              "            style=\"display:none;\">\n",
              "\n",
              "<svg xmlns=\"http://www.w3.org/2000/svg\" height=\"24px\"viewBox=\"0 0 24 24\"\n",
              "     width=\"24px\">\n",
              "    <g>\n",
              "        <path d=\"M19 3H5c-1.1 0-2 .9-2 2v14c0 1.1.9 2 2 2h14c1.1 0 2-.9 2-2V5c0-1.1-.9-2-2-2zM9 17H7v-7h2v7zm4 0h-2V7h2v10zm4 0h-2v-4h2v4z\"/>\n",
              "    </g>\n",
              "</svg>\n",
              "  </button>\n",
              "\n",
              "<style>\n",
              "  .colab-df-quickchart {\n",
              "      --bg-color: #E8F0FE;\n",
              "      --fill-color: #1967D2;\n",
              "      --hover-bg-color: #E2EBFA;\n",
              "      --hover-fill-color: #174EA6;\n",
              "      --disabled-fill-color: #AAA;\n",
              "      --disabled-bg-color: #DDD;\n",
              "  }\n",
              "\n",
              "  [theme=dark] .colab-df-quickchart {\n",
              "      --bg-color: #3B4455;\n",
              "      --fill-color: #D2E3FC;\n",
              "      --hover-bg-color: #434B5C;\n",
              "      --hover-fill-color: #FFFFFF;\n",
              "      --disabled-bg-color: #3B4455;\n",
              "      --disabled-fill-color: #666;\n",
              "  }\n",
              "\n",
              "  .colab-df-quickchart {\n",
              "    background-color: var(--bg-color);\n",
              "    border: none;\n",
              "    border-radius: 50%;\n",
              "    cursor: pointer;\n",
              "    display: none;\n",
              "    fill: var(--fill-color);\n",
              "    height: 32px;\n",
              "    padding: 0;\n",
              "    width: 32px;\n",
              "  }\n",
              "\n",
              "  .colab-df-quickchart:hover {\n",
              "    background-color: var(--hover-bg-color);\n",
              "    box-shadow: 0 1px 2px rgba(60, 64, 67, 0.3), 0 1px 3px 1px rgba(60, 64, 67, 0.15);\n",
              "    fill: var(--button-hover-fill-color);\n",
              "  }\n",
              "\n",
              "  .colab-df-quickchart-complete:disabled,\n",
              "  .colab-df-quickchart-complete:disabled:hover {\n",
              "    background-color: var(--disabled-bg-color);\n",
              "    fill: var(--disabled-fill-color);\n",
              "    box-shadow: none;\n",
              "  }\n",
              "\n",
              "  .colab-df-spinner {\n",
              "    border: 2px solid var(--fill-color);\n",
              "    border-color: transparent;\n",
              "    border-bottom-color: var(--fill-color);\n",
              "    animation:\n",
              "      spin 1s steps(1) infinite;\n",
              "  }\n",
              "\n",
              "  @keyframes spin {\n",
              "    0% {\n",
              "      border-color: transparent;\n",
              "      border-bottom-color: var(--fill-color);\n",
              "      border-left-color: var(--fill-color);\n",
              "    }\n",
              "    20% {\n",
              "      border-color: transparent;\n",
              "      border-left-color: var(--fill-color);\n",
              "      border-top-color: var(--fill-color);\n",
              "    }\n",
              "    30% {\n",
              "      border-color: transparent;\n",
              "      border-left-color: var(--fill-color);\n",
              "      border-top-color: var(--fill-color);\n",
              "      border-right-color: var(--fill-color);\n",
              "    }\n",
              "    40% {\n",
              "      border-color: transparent;\n",
              "      border-right-color: var(--fill-color);\n",
              "      border-top-color: var(--fill-color);\n",
              "    }\n",
              "    60% {\n",
              "      border-color: transparent;\n",
              "      border-right-color: var(--fill-color);\n",
              "    }\n",
              "    80% {\n",
              "      border-color: transparent;\n",
              "      border-right-color: var(--fill-color);\n",
              "      border-bottom-color: var(--fill-color);\n",
              "    }\n",
              "    90% {\n",
              "      border-color: transparent;\n",
              "      border-bottom-color: var(--fill-color);\n",
              "    }\n",
              "  }\n",
              "</style>\n",
              "\n",
              "  <script>\n",
              "    async function quickchart(key) {\n",
              "      const quickchartButtonEl =\n",
              "        document.querySelector('#' + key + ' button');\n",
              "      quickchartButtonEl.disabled = true;  // To prevent multiple clicks.\n",
              "      quickchartButtonEl.classList.add('colab-df-spinner');\n",
              "      try {\n",
              "        const charts = await google.colab.kernel.invokeFunction(\n",
              "            'suggestCharts', [key], {});\n",
              "      } catch (error) {\n",
              "        console.error('Error during call to suggestCharts:', error);\n",
              "      }\n",
              "      quickchartButtonEl.classList.remove('colab-df-spinner');\n",
              "      quickchartButtonEl.classList.add('colab-df-quickchart-complete');\n",
              "    }\n",
              "    (() => {\n",
              "      let quickchartButtonEl =\n",
              "        document.querySelector('#df-35343247-01a3-4e1f-86e0-93a861792106 button');\n",
              "      quickchartButtonEl.style.display =\n",
              "        google.colab.kernel.accessAllowed ? 'block' : 'none';\n",
              "    })();\n",
              "  </script>\n",
              "</div>\n",
              "    </div>\n",
              "  </div>\n"
            ]
          },
          "metadata": {},
          "execution_count": 253
        }
      ]
    },
    {
      "cell_type": "code",
      "source": [
        "# Model 2 was our best performer. Let's see if we can tweak it any further\n",
        "tf.random.random_seed = 42\n",
        "# Model 2, Add Layer\n",
        "model_2 = tf.keras.Sequential([\n",
        "    tf.keras.layers.Dense(100),\n",
        "    tf.keras.layers.Dense(50),\n",
        "    tf.keras.layers.Dense(1)\n",
        "])\n",
        "\n",
        "model_2.compile(optimizer = tf.keras.optimizers.Adam(learning_rate=0.0001),\n",
        "              loss = 'mae',\n",
        "              metrics = ['mae',\n",
        "                        'mse'])\n",
        "\n",
        "\n",
        "\n",
        "history = model_2.fit(X_train_tf, y_train_tf, epochs = 200, verbose = 0)"
      ],
      "metadata": {
        "id": "3Lt46eiCiQpe"
      },
      "execution_count": 254,
      "outputs": []
    },
    {
      "cell_type": "code",
      "source": [
        "pd.DataFrame(history.history['loss']).plot()\n",
        "plt.ylabel(\"loss\")\n",
        "plt.xlabel(\"epochs\")"
      ],
      "metadata": {
        "colab": {
          "base_uri": "https://localhost:8080/",
          "height": 466
        },
        "id": "S4Sm194_it0q",
        "outputId": "f8fb0479-5546-4ae9-adf9-4bbf94ada136"
      },
      "execution_count": 255,
      "outputs": [
        {
          "output_type": "execute_result",
          "data": {
            "text/plain": [
              "Text(0.5, 0, 'epochs')"
            ]
          },
          "metadata": {},
          "execution_count": 255
        },
        {
          "output_type": "display_data",
          "data": {
            "text/plain": [
              "<Figure size 640x480 with 1 Axes>"
            ],
            "image/png": "[encoded data removed]"
          },
          "metadata": {}
        }
      ]
    },
    {
      "cell_type": "code",
      "source": [
        "loss_2, mae_2, mse_2 = model_2.evaluate(X_test_tf, y_test_tf)"
      ],
      "metadata": {
        "colab": {
          "base_uri": "https://localhost:8080/"
        },
        "id": "7VuedcVtivPS",
        "outputId": "f427194d-329f-4b0b-f927-1af3e453e818"
      },
      "execution_count": 256,
      "outputs": [
        {
          "output_type": "stream",
          "name": "stdout",
          "text": [
            "11/11 [==============================] - 0s 1ms/step - loss: 2.6508 - mae: 2.6508 - mse: 13.0988\n"
          ]
        }
      ]
    },
    {
      "cell_type": "code",
      "source": [
        "# Model 2 was our best performer. Let's see if we can tweak it any further\n",
        "tf.random.random_seed = 42\n",
        "# Model 2, Add activation\n",
        "model_2 = tf.keras.Sequential([\n",
        "    tf.keras.layers.Dense(100,activation = 'ReLU'),\n",
        "    tf.keras.layers.Dense(50,activation = 'ReLU'),\n",
        "    tf.keras.layers.Dense(1)\n",
        "])\n",
        "\n",
        "model_2.compile(optimizer = tf.keras.optimizers.Adam(learning_rate=0.0001),\n",
        "              loss = 'mae',\n",
        "              metrics = ['mae',\n",
        "                        'mse'])\n",
        "\n",
        "\n",
        "\n",
        "history = model_2.fit(X_train_tf, y_train_tf, epochs = 200, verbose = 0)"
      ],
      "metadata": {
        "id": "0sC1PiMxi720"
      },
      "execution_count": 257,
      "outputs": []
    },
    {
      "cell_type": "code",
      "source": [
        "pd.DataFrame(history.history['loss']).plot()\n",
        "plt.ylabel(\"loss\")\n",
        "plt.xlabel(\"epochs\")"
      ],
      "metadata": {
        "colab": {
          "base_uri": "https://localhost:8080/",
          "height": 466
        },
        "id": "0odSLBe8jEGQ",
        "outputId": "266af46c-c7fc-411f-f06d-97b7706223fc"
      },
      "execution_count": 258,
      "outputs": [
        {
          "output_type": "execute_result",
          "data": {
            "text/plain": [
              "Text(0.5, 0, 'epochs')"
            ]
          },
          "metadata": {},
          "execution_count": 258
        },
        {
          "output_type": "display_data",
          "data": {
            "text/plain": [
              "<Figure size 640x480 with 1 Axes>"
            ],
            "image/png": "[encoded data removed]"
          },
          "metadata": {}
        }
      ]
    },
    {
      "cell_type": "code",
      "source": [
        "loss_2, mae_2, mse_2 = model_2.evaluate(X_test_tf, y_test_tf)"
      ],
      "metadata": {
        "colab": {
          "base_uri": "https://localhost:8080/"
        },
        "id": "kKkXbFpzjFRJ",
        "outputId": "90eed48c-9552-41f6-d114-6e96ceafc808"
      },
      "execution_count": 259,
      "outputs": [
        {
          "output_type": "stream",
          "name": "stdout",
          "text": [
            "11/11 [==============================] - 0s 1ms/step - loss: 2.5218 - mae: 2.5218 - mse: 11.5499\n"
          ]
        }
      ]
    },
    {
      "cell_type": "code",
      "source": [
        "# Model 2 was our best performer. Let's see if we can tweak it any further\n",
        "tf.random.random_seed = 42\n",
        "# Model 2, Change sigmoid function\n",
        "model_2 = tf.keras.Sequential([\n",
        "    tf.keras.layers.Dense(100,activation = 'ReLU'),\n",
        "    tf.keras.layers.Dense(50,activation = 'sigmoid'),\n",
        "    tf.keras.layers.Dense(1)\n",
        "])\n",
        "\n",
        "model_2.compile(optimizer = tf.keras.optimizers.Adam(learning_rate=0.0001),\n",
        "              loss = 'mae',\n",
        "              metrics = ['mae',\n",
        "                        'mse'])\n",
        "\n",
        "\n",
        "\n",
        "history = model_2.fit(X_train_tf, y_train_tf, epochs = 200, verbose = 0)"
      ],
      "metadata": {
        "id": "gG-9VGJ8jGSc"
      },
      "execution_count": 265,
      "outputs": []
    },
    {
      "cell_type": "code",
      "source": [
        "pd.DataFrame(history.history['loss']).plot()\n",
        "plt.ylabel(\"loss\")\n",
        "plt.xlabel(\"epochs\")"
      ],
      "metadata": {
        "colab": {
          "base_uri": "https://localhost:8080/",
          "height": 468
        },
        "id": "ziqnaI0kjdeX",
        "outputId": "4dad5d90-d02e-4be3-c33d-cef1b73029f5"
      },
      "execution_count": 266,
      "outputs": [
        {
          "output_type": "execute_result",
          "data": {
            "text/plain": [
              "Text(0.5, 0, 'epochs')"
            ]
          },
          "metadata": {},
          "execution_count": 266
        },
        {
          "output_type": "display_data",
          "data": {
            "text/plain": [
              "<Figure size 640x480 with 1 Axes>"
            ],
            "image/png": "[encoded data removed]"
          },
          "metadata": {}
        }
      ]
    },
    {
      "cell_type": "code",
      "source": [
        "loss_2, mae_2, mse_2 = model_2.evaluate(X_test_tf, y_test_tf)"
      ],
      "metadata": {
        "colab": {
          "base_uri": "https://localhost:8080/"
        },
        "id": "kvkBcQ5tjnnZ",
        "outputId": "8cc132f0-51e1-4c32-977d-0d46a94003ba"
      },
      "execution_count": 267,
      "outputs": [
        {
          "output_type": "stream",
          "name": "stdout",
          "text": [
            "11/11 [==============================] - 0s 1ms/step - loss: 38.5924 - mae: 38.5924 - mse: 1560.3933\n"
          ]
        }
      ]
    },
    {
      "cell_type": "code",
      "source": [],
      "metadata": {
        "id": "PsBCQ5IMjzmJ"
      },
      "execution_count": null,
      "outputs": []
    },
    {
      "cell_type": "code",
      "source": [
        "# Model 2 was our best performer. Let's see if we can tweak it any further\n",
        "tf.random.random_seed = 42\n",
        "# Model 2, Add activation\n",
        "model_2 = tf.keras.Sequential([\n",
        "    tf.keras.layers.Dense(100,activation = 'ReLU'),\n",
        "    tf.keras.layers.Dense(50,activation = 'ReLU'),\n",
        "    tf.keras.layers.Dense(10,activation = 'ReLU'),\n",
        "    tf.keras.layers.Dense(1)\n",
        "])\n",
        "\n",
        "model_2.compile(optimizer = tf.keras.optimizers.Adam(learning_rate=0.0001),\n",
        "              loss = 'mae',\n",
        "              metrics = ['mae',\n",
        "                        'mse'])\n",
        "\n",
        "\n",
        "\n",
        "history = model_2.fit(X_train_tf, y_train_tf, epochs = 200, verbose = 0)"
      ],
      "metadata": {
        "id": "2vZl0H1Kjp48"
      },
      "execution_count": 279,
      "outputs": []
    },
    {
      "cell_type": "code",
      "source": [
        "pd.DataFrame(history.history['loss']).plot()\n",
        "plt.ylabel(\"loss\")\n",
        "plt.xlabel(\"epochs\")"
      ],
      "metadata": {
        "colab": {
          "base_uri": "https://localhost:8080/",
          "height": 466
        },
        "id": "ICIMFi7qj3Js",
        "outputId": "190c7c82-05b5-4200-def6-c1abfac5990c"
      },
      "execution_count": 269,
      "outputs": [
        {
          "output_type": "execute_result",
          "data": {
            "text/plain": [
              "Text(0.5, 0, 'epochs')"
            ]
          },
          "metadata": {},
          "execution_count": 269
        },
        {
          "output_type": "display_data",
          "data": {
            "text/plain": [
              "<Figure size 640x480 with 1 Axes>"
            ],
            "image/png": "[encoded data removed]"
          },
          "metadata": {}
        }
      ]
    },
    {
      "cell_type": "code",
      "source": [
        "loss_2, mae_2, mse_2 = model_2.evaluate(X_test_tf, y_test_tf)"
      ],
      "metadata": {
        "colab": {
          "base_uri": "https://localhost:8080/"
        },
        "id": "Kkq8n4HDjzTb",
        "outputId": "b33c6c99-e9a6-4c69-80d0-3ef55abcfa56"
      },
      "execution_count": 278,
      "outputs": [
        {
          "output_type": "stream",
          "name": "stdout",
          "text": [
            "11/11 [==============================] - 0s 2ms/step - loss: 2.7497 - mae: 2.7497 - mse: 13.2696\n"
          ]
        }
      ]
    },
    {
      "cell_type": "markdown",
      "source": [
        "# Final Model has a loss of only 2.5 years on average for life expectancy error. That is pretty good."
      ],
      "metadata": {
        "id": "XRNqcSgUj44b"
      }
    },
    {
      "cell_type": "code",
      "source": [
        "# Model 2 was our best performer. Let's see if we can tweak it any further\n",
        "tf.random.random_seed = 42\n",
        "# Model 2, Add activation\n",
        "model = tf.keras.Sequential([\n",
        "    tf.keras.layers.Dense(100,activation = 'ReLU'),\n",
        "    tf.keras.layers.Dense(50,activation = 'ReLU'),\n",
        "    tf.keras.layers.Dense(10,activation = 'ReLU'),\n",
        "    tf.keras.layers.Dense(1)\n",
        "])\n",
        "\n",
        "model.compile(optimizer = tf.keras.optimizers.Adam(learning_rate=0.0001),\n",
        "              loss = 'mae',\n",
        "              metrics = ['mae',\n",
        "                        'mse'])\n",
        "\n",
        "\n",
        "\n",
        "history = model.fit(X_train_tf, y_train_tf, epochs = 200, verbose = 0)"
      ],
      "metadata": {
        "id": "rGE2EFTmj_27"
      },
      "execution_count": 280,
      "outputs": []
    },
    {
      "cell_type": "code",
      "source": [
        "pd.DataFrame(history.history['loss']).plot()\n",
        "plt.ylabel(\"loss\")\n",
        "plt.xlabel(\"epochs\")"
      ],
      "metadata": {
        "colab": {
          "base_uri": "https://localhost:8080/",
          "height": 466
        },
        "id": "jEk2losQkAcN",
        "outputId": "0c36224a-ec86-4ecd-f044-87b317c3d9fa"
      },
      "execution_count": 281,
      "outputs": [
        {
          "output_type": "execute_result",
          "data": {
            "text/plain": [
              "Text(0.5, 0, 'epochs')"
            ]
          },
          "metadata": {},
          "execution_count": 281
        },
        {
          "output_type": "display_data",
          "data": {
            "text/plain": [
              "<Figure size 640x480 with 1 Axes>"
            ],
            "image/png": "[encoded data removed]"
          },
          "metadata": {}
        }
      ]
    },
    {
      "cell_type": "code",
      "source": [
        "model.evaluate(X_test_tf, y_test_tf)"
      ],
      "metadata": {
        "colab": {
          "base_uri": "https://localhost:8080/"
        },
        "id": "56cdBH5LkB0W",
        "outputId": "b0d99494-c1d4-4bbe-a789-7bd243a27228"
      },
      "execution_count": 282,
      "outputs": [
        {
          "output_type": "stream",
          "name": "stdout",
          "text": [
            "11/11 [==============================] - 0s 1ms/step - loss: 2.5459 - mae: 2.5459 - mse: 11.6433\n"
          ]
        },
        {
          "output_type": "execute_result",
          "data": {
            "text/plain": [
              "[2.545923948287964, 2.545923948287964, 11.643265724182129]"
            ]
          },
          "metadata": {},
          "execution_count": 282
        }
      ]
    },
    {
      "cell_type": "code",
      "source": [],
      "metadata": {
        "id": "prilPtKzkH_i"
      },
      "execution_count": null,
      "outputs": []
    }
  ]
}